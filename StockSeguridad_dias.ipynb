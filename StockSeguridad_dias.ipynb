{
  "nbformat": 4,
  "nbformat_minor": 0,
  "metadata": {
    "colab": {
      "provenance": [],
      "authorship_tag": "ABX9TyPyBOf7GxGs/gcpNbGxGd8X",
      "include_colab_link": true
    },
    "kernelspec": {
      "name": "python3",
      "display_name": "Python 3"
    },
    "language_info": {
      "name": "python"
    }
  },
  "cells": [
    {
      "cell_type": "markdown",
      "metadata": {
        "id": "view-in-github",
        "colab_type": "text"
      },
      "source": [
        "<a href=\"https://colab.research.google.com/github/santiagonajera/OPTIMIZACI-N-DE-INVENTARIOS-CON-POWER-BI/blob/main/StockSeguridad_dias.ipynb\" target=\"_parent\"><img src=\"https://colab.research.google.com/assets/colab-badge.svg\" alt=\"Open In Colab\"/></a>"
      ]
    },
    {
      "cell_type": "code",
      "execution_count": 1,
      "metadata": {
        "colab": {
          "base_uri": "https://localhost:8080/"
        },
        "id": "H31CeYXyyOzs",
        "outputId": "74947084-b1a7-423e-fe37-114282198513"
      },
      "outputs": [
        {
          "output_type": "stream",
          "name": "stdout",
          "text": [
            "Promedio de ventas de los últimos 18 meses: 30696.00\n",
            "Desviación estándar de las ventas: 4624.90\n",
            "Promedio del lead time en días: 4.47\n",
            "Stock de seguridad en unidades: 3096.44\n",
            "Stock de seguridad en días: 3.03\n"
          ]
        }
      ],
      "source": [
        "import pandas as pd\n",
        "import numpy as np\n",
        "\n",
        "# URL del archivo Excel\n",
        "url = \"https://github.com/santiagonajera/OPTIMIZACI-N-DE-INVENTARIOS-CON-POWER-BI/raw/refs/heads/main/Clases-PowerBi-Inventarios-Datos.xlsx\"\n",
        "\n",
        "# Leer los datos de ventas (Historico)\n",
        "ventas_df = pd.read_excel(url, sheet_name=\"Historico\")\n",
        "\n",
        "# Leer los datos de lead time (LeadTime-Dias)\n",
        "lead_time_df = pd.read_excel(url, sheet_name=\"LeadTime-Dias\")\n",
        "\n",
        "# Seleccionar el primer item (ITEM 1)\n",
        "item_ventas = ventas_df.iloc[0, 1:]  # Todas las columnas excepto la primera (ITEM)\n",
        "item_lead_time = lead_time_df.iloc[0, 1:]  # Todas las columnas excepto la primera (ITEM)\n",
        "\n",
        "# Convertir los valores a numéricos\n",
        "item_ventas = pd.to_numeric(item_ventas, errors='coerce')\n",
        "item_lead_time = pd.to_numeric(item_lead_time, errors='coerce')\n",
        "\n",
        "# Tomar los últimos 18 meses de ventas\n",
        "ultimos_18_meses = item_ventas[-18:]\n",
        "\n",
        "# Calcular el promedio de ventas de los últimos 18 meses\n",
        "promedio_ventas = ultimos_18_meses.mean()\n",
        "\n",
        "# Calcular la desviación estándar de las ventas de los últimos 18 meses\n",
        "desviacion_estandar_ventas = ultimos_18_meses.std()\n",
        "\n",
        "# Calcular el promedio del lead time en días\n",
        "promedio_lead_time = item_lead_time.mean()\n",
        "\n",
        "# Convertir el lead time a meses (dividiendo por 30)\n",
        "L = promedio_lead_time / 30\n",
        "\n",
        "# R es dado como 0.5 días, convertirlo a meses\n",
        "R = 0.5 / 30\n",
        "\n",
        "# Z-score (suponemos Z = 1.645 para un nivel de servicio del 95%)\n",
        "Z = 1.645\n",
        "\n",
        "# Aplicar la fórmula del stock de seguridad\n",
        "SS = Z * desviacion_estandar_ventas * np.sqrt(L + R)\n",
        "\n",
        "# Calcular el stock de seguridad en días\n",
        "stock_seguridad_dias = (SS / promedio_ventas) * 30\n",
        "\n",
        "# Resultados\n",
        "print(f\"Promedio de ventas de los últimos 18 meses: {promedio_ventas:.2f}\")\n",
        "print(f\"Desviación estándar de las ventas: {desviacion_estandar_ventas:.2f}\")\n",
        "print(f\"Promedio del lead time en días: {promedio_lead_time:.2f}\")\n",
        "print(f\"Stock de seguridad en unidades: {SS:.2f}\")\n",
        "print(f\"Stock de seguridad en días: {stock_seguridad_dias:.2f}\")"
      ]
    }
  ]
}